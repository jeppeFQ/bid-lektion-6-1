{
 "cells": [
  {
   "cell_type": "code",
   "execution_count": null,
   "metadata": {},
   "outputs": [],
   "source": [
    "class Person:\n",
    "    def __init__(self, navn: str, alder: int, køn: str):\n",
    "        self.navn = navn\n",
    "        self.alder = alder   \n",
    "        self.køn = køn\n",
    "\n",
    "    def __str__(self):\n",
    "        return f\"Navn: {self.navn}, Alder: {self.alder}, Køn: {self.køn}\""
   ]
  },
  {
   "cell_type": "code",
   "execution_count": null,
   "metadata": {},
   "outputs": [],
   "source": [
    "def beregn_pris(self, produkt_type, pris):\n",
    "        if produkt_type == \"bog\":\n",
    "            return pris * 0.9\n",
    "        elif produkt_type == \"elektronik\":\n",
    "            return pris * 0.85\n",
    "        elif produkt_type == \"tøj\":\n",
    "            return pris * 0.8\n",
    "        return pris"
   ]
  },
  {
   "cell_type": "code",
   "execution_count": null,
   "metadata": {},
   "outputs": [],
   "source": [
    "class Fugl:\n",
    "    def __init__(self, navn):\n",
    "        self.navn = navn\n",
    "\n",
    "#\n",
    "class FlyveFugl(Fugl):\n",
    "    #\n",
    "    def flyv(self):\n",
    "        print(f\"{self.navn} flyver\")\n",
    "\n",
    "#\n",
    "class IkkeFlyveFugl(Fugl):\n",
    "    #\n",
    "    def løb(self):\n",
    "        print(f\"{self.navn} løber\")"
   ]
  },
  {
   "cell_type": "markdown",
   "metadata": {},
   "source": [
    "1\n",
    "\n",
    "1\n",
    "\n",
    "1\n",
    "\n",
    "1\n",
    "\n",
    "1\n",
    "\n",
    "1"
   ]
  },
  {
   "cell_type": "code",
   "execution_count": null,
   "metadata": {},
   "outputs": [],
   "source": [
    "class Hund:\n",
    "    def __init__(self, navn, race, alder=1):\n",
    "        #\n",
    "        self.navn = navn\n",
    "        self.race = race\n",
    "        self.alder = alder\n",
    "        self.sulten = True\n",
    "        self.energi = 100\n",
    "    \n",
    "    def gø(self):\n",
    "        #\n",
    "        if self.energi > 20:\n",
    "            print(f\"{self.navn} siger: Vov vov!\")\n",
    "            self.energi -= 5\n",
    "        else:\n",
    "            print(f\"{self.navn} er for træt til at gø...\")\n",
    "    \n",
    "    def spis(self, mængde):\n",
    "        #\n",
    "        self.sulten = False\n",
    "        self.energi += mængde * 10\n",
    "        if self.energi > 100:\n",
    "            self.energi = 100\n",
    "        print(f\"{self.navn} spiste {mængde} skåle mad!\")\n",
    "    \n",
    "    def løb(self, minutter):\n",
    "        #\n",
    "        energi_forbrug = minutter * 3\n",
    "        if self.energi >= energi_forbrug:\n",
    "            self.energi -= energi_forbrug\n",
    "            print(f\"{self.navn} løb i {minutter} minutter!\")\n",
    "        else:\n",
    "            print(f\"{self.navn} er for træt til at løbe.\")"
   ]
  }
 ],
 "metadata": {
  "language_info": {
   "name": "python"
  }
 },
 "nbformat": 4,
 "nbformat_minor": 2
}
